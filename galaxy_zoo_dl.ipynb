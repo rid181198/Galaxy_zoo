{
 "cells": [
  {
   "cell_type": "markdown",
   "metadata": {},
   "source": [
    "## Modules"
   ]
  },
  {
   "cell_type": "code",
   "execution_count": 1,
   "metadata": {},
   "outputs": [
    {
     "name": "stderr",
     "output_type": "stream",
     "text": [
      "C:\\Users\\Admin\\Anaconda3\\lib\\site-packages\\dask\\config.py:161: YAMLLoadWarning: calling yaml.load() without Loader=... is deprecated, as the default Loader is unsafe. Please read https://msg.pyyaml.org/load for full details.\n",
      "  data = yaml.load(f.read()) or {}\n"
     ]
    }
   ],
   "source": [
    "#Import modules\n",
    "import numpy as np\n",
    "import matplotlib.pyplot as plt\n",
    "from sklearn.model_selection import train_test_split\n",
    "from sklearn.model_selection import GridSearchCV\n",
    "from sklearn.impute import SimpleImputer\n",
    "from sklearn.preprocessing import MinMaxScaler\n",
    "from sklearn.model_selection import ShuffleSplit\n",
    "from sklearn.ensemble import RandomForestClassifier\n",
    "from sklearn.preprocessing import StandardScaler\n",
    "from sklearn.model_selection import RepeatedStratifiedKFold\n",
    "from sklearn.model_selection import learning_curve\n",
    "from sklearn.metrics import roc_auc_score\n",
    "from sklearn.metrics import roc_curve, auc\n",
    "from sklearn.metrics import classification_report, confusion_matrix\n",
    "from sklearn.linear_model import LinearRegression\n",
    "from sklearn.tree import DecisionTreeRegressor\n",
    "from sklearn.ensemble import RandomForestRegressor\n",
    "from sklearn import svm\n",
    "from sklearn.svm import SVC\n",
    "import sklearn.model_selection as ms\n",
    "import sklearn.decomposition as de\n",
    "import csv\n",
    "from sklearn import metrics\n",
    "from sklearn.datasets import load_sample_image\n",
    "from skimage import io as ioi\n",
    "from sklearn.preprocessing import label_binarize\n",
    "from mpl_toolkits.mplot3d import Axes3D\n",
    "from skimage.util import crop\n",
    "from skimage.color import rgb2gray\n",
    "import glob\n",
    "import array as arr\n",
    "\n",
    "\n",
    "\n",
    "#Plot in cells\n",
    "%matplotlib inline"
   ]
  },
  {
   "cell_type": "markdown",
   "metadata": {},
   "source": [
    "## Load the .csv file and the images"
   ]
  },
  {
   "cell_type": "code",
   "execution_count": 2,
   "metadata": {},
   "outputs": [],
   "source": [
    "# Load data from csv file\n",
    "data = pd.read_csv('H:\\LMU\\Semester-1\\Astro AI\\Galaxy Zoo Project\\Data\\galaxy_zoo_labels.csv')\n",
    "files = glob.glob(\"H:/LMU/Semester-1/Astro AI/Galaxy Zoo Project/Data/images_training_rev1/*.jpg\")\n",
    "\n",
    "#samples\n",
    "n=300\n",
    "# create a simple array with numpy empty() \n",
    "imgs = []\n",
    "for i in files[:n]:\n",
    "    img = ioi.imread(i)\n",
    "    im = img[110:310,110:310]\n",
    "    img_gray = rgb2gray(im)\n",
    "    imgs.append(img_gray)\n",
    "    \n",
    "imgs = np.array(imgs)\n",
    "\n",
    "# Due to the large number of images, only taking 8000 images\n",
    "data = data[:n]\n",
    "\n"
   ]
  },
  {
   "cell_type": "markdown",
   "metadata": {},
   "source": [
    "## Converting the data into the classes"
   ]
  },
  {
   "cell_type": "code",
   "execution_count": 3,
   "metadata": {},
   "outputs": [],
   "source": [
    "class1=[]\n",
    "class2=[]\n",
    "class3=[]\n",
    "class4=[]\n",
    "class5=[]\n",
    "class6=[]\n",
    "class7=[]\n",
    "class8=[]\n",
    "class9=[]\n",
    "class10=[]\n",
    "class11=[]\n",
    "\n",
    "for i in range(len(data)):\n",
    "    c1 = list(data.iloc[i][['Class1.1','Class1.2','Class1.3']])\n",
    "    c2 = list(data.iloc[i][['Class2.1','Class2.2']])\n",
    "    c3 = list(data.iloc[i][['Class3.1','Class3.2']])\n",
    "    c4 = list(data.iloc[i][['Class4.1','Class4.2']])\n",
    "    c5 = list(data.iloc[i][['Class5.1','Class5.2','Class5.3','Class5.4']])\n",
    "    c6 = list(data.iloc[i][['Class6.1','Class6.2']])\n",
    "    c7 = list(data.iloc[i][['Class7.1','Class7.2','Class7.3']])\n",
    "    c8 = list(data.iloc[i][['Class8.1', 'Class8.2', 'Class8.3', 'Class8.4', 'Class8.5', 'Class8.6', 'Class8.7']])\n",
    "    c9 = list(data.iloc[i][['Class9.1', 'Class9.2', 'Class9.3']])\n",
    "    c10 = list(data.iloc[i][['Class10.1', 'Class10.2', 'Class10.3']])\n",
    "    c11 = list(data.iloc[i][['Class11.1', 'Class11.2', 'Class11.3', 'Class11.4', 'Class11.5', 'Class11.6']]) \n",
    "   \n",
    "    class1.append((c1.index(max(c1))))\n",
    "    class2.append((c2.index(max(c2))))\n",
    "    class3.append((c3.index(max(c3))))\n",
    "    class4.append((c4.index(max(c4))))\n",
    "    class5.append((c5.index(max(c5))))\n",
    "    class6.append((c6.index(max(c6))))\n",
    "    class7.append((c7.index(max(c7))))\n",
    "    class8.append((c8.index(max(c8))))\n",
    "    class9.append((c9.index(max(c9))))\n",
    "    class10.append((c10.index(max(c10))))\n",
    "    class11.append((c11.index(max(c11))))\n",
    "\n",
    "    \n",
    "#print(np.sort(c1))"
   ]
  },
  {
   "cell_type": "markdown",
   "metadata": {},
   "source": [
    "## Split the data and images"
   ]
  },
  {
   "cell_type": "code",
   "execution_count": 4,
   "metadata": {},
   "outputs": [],
   "source": [
    "\n",
    "# Dividing the data set into three sets train, test, valid with the ratio of 0.2\n",
    "test_ratio = 0.2\n",
    "train_set, test_set, img_train, img_test = train_test_split(class8,imgs, test_size=test_ratio, random_state=160982)\n",
    "train_set, valid_set, img_train, img_valid = train_test_split(train_set,img_train, test_size=test_ratio, random_state=160982)"
   ]
  },
  {
   "cell_type": "markdown",
   "metadata": {},
   "source": [
    "## Reshaping the array"
   ]
  },
  {
   "cell_type": "code",
   "execution_count": 5,
   "metadata": {},
   "outputs": [],
   "source": [
    "imtrain = img_train.reshape(img_train.shape[0],40000)\n",
    "imtest = img_test.reshape(img_test.shape[0],40000)\n",
    "imvalid = img_valid.reshape(img_valid.shape[0],40000)\n"
   ]
  },
  {
   "cell_type": "markdown",
   "metadata": {},
   "source": [
    "## PCA dimension reduction"
   ]
  },
  {
   "cell_type": "code",
   "execution_count": 6,
   "metadata": {},
   "outputs": [],
   "source": [
    "pca = de.PCA(0.96)\n",
    "imtrainp = pca.fit_transform(imtrain)\n",
    "imtestp  = pca.transform(imtest)\n",
    "imvalidp  = pca.transform(imvalid)\n",
    "\n",
    "#print(pca.n_components_)\n",
    "#print(imtrainp.shape,imtestp.shape,imvalidp.shape)"
   ]
  },
  {
   "cell_type": "markdown",
   "metadata": {},
   "source": [
    "## ML "
   ]
  },
  {
   "cell_type": "markdown",
   "metadata": {},
   "source": [
    " ## SVM with different kernels"
   ]
  },
  {
   "cell_type": "code",
   "execution_count": 7,
   "metadata": {},
   "outputs": [],
   "source": [
    "#Create a svm Classifier\n",
    "\n",
    "\n",
    "#clf = svm.SVC(decision_function_shape='ovo')\n",
    "\n",
    "#Linear \n",
    "#clf = svm.SVC(kernel = 'linear',C=10)\n",
    "\n",
    "#Gaussian\n",
    "clf = svm.SVC(kernel='rbf', gamma=0.01, C=100)\n",
    "\n",
    "#Polynomial\n",
    "#clf = svm.SVC(kernel='poly', degree=4, C=1000)\n",
    "\n",
    "#Sigmoid\n",
    "#clf = svm.SVC(kernel='sigmoid')\n",
    "\n",
    "\n",
    "#Train the model using the training sets\n",
    "clf.fit(imtrainp, train_set)\n",
    "\n",
    "#Predict the response for test dataset\n",
    "y_pred = clf.predict(imtestp)\n"
   ]
  },
  {
   "cell_type": "code",
   "execution_count": 8,
   "metadata": {},
   "outputs": [
    {
     "data": {
      "text/plain": [
       "(14, 60)"
      ]
     },
     "execution_count": 8,
     "metadata": {},
     "output_type": "execute_result"
    }
   ],
   "source": [
    "def accuracy(test_set,y_pred):\n",
    "    j=0\n",
    "    acc = np.array(test_set)\n",
    "\n",
    "    for i in range(len(y_pred)):\n",
    "    \n",
    "        if y_pred[i] == acc[i] :\n",
    "            j+=1\n",
    "    return j,len(y_pred)\n",
    "        \n",
    "accuracy(test_set,y_pred)"
   ]
  },
  {
   "cell_type": "markdown",
   "metadata": {},
   "source": [
    "## Regularization"
   ]
  },
  {
   "cell_type": "markdown",
   "metadata": {},
   "source": [
    "(1) In the kernel 'rbf', the regularization parameters are gamma, C which defines the margin. If we set C very small then it has very less accuracy. At intermediate value of it, it is showing the great accuracy and at higher it again decreases the accuracy. This is called overfitting. Thus, regularization is necessary to avoid the overfitting."
   ]
  },
  {
   "cell_type": "code",
   "execution_count": 9,
   "metadata": {},
   "outputs": [
    {
     "name": "stdout",
     "output_type": "stream",
     "text": [
      "[(1e-06, 0.001, 0.25), (0.001, 0.001, 0.25), (0.01, 0.001, 0.25), (0.1, 0.001, 0.25), (1, 0.001, 0.2), (10, 0.001, 0.31666666666666665), (20, 0.001, 0.31666666666666665), (50, 0.001, 0.2833333333333333), (100, 0.001, 0.23333333333333334), (1000, 0.001, 0.25), (2000, 0.001, 0.25), (5000, 0.001, 0.25)]\n"
     ]
    }
   ],
   "source": [
    "C_2d_range = [0.000001,0.001,0.01,0.1,1,10,20,50,100,1000,2000,5000]\n",
    "#gamma_2d_range = [0.001,0.01,0.1,1,10]\n",
    "gamma_2d_range = [0.001]\n",
    "classifiers = []\n",
    "for C in C_2d_range:\n",
    "    for gamma in gamma_2d_range:\n",
    "        clf = SVC(kernel='rbf',C=C, gamma=gamma)\n",
    "        clf.fit(imtrainp, train_set)\n",
    "        y_pred = clf.predict(imtestp)\n",
    "        accu = accuracy(test_set,y_pred)\n",
    "        classifiers.append((C, gamma, accu[0]/len(y_pred)))\n",
    "        \n",
    "print(classifiers)"
   ]
  },
  {
   "cell_type": "code",
   "execution_count": 10,
   "metadata": {},
   "outputs": [
    {
     "data": {
      "image/png": "[encoded data removed]",
      "text/plain": [
       "<Figure size 720x576 with 1 Axes>"
      ]
     },
     "metadata": {
      "needs_background": "light"
     },
     "output_type": "display_data"
    }
   ],
   "source": [
    "fig = plt.figure(figsize=(10,8))\n",
    "x=[]\n",
    "y=[]\n",
    "z=[]\n",
    "for i in range(len(classifiers)):\n",
    "    x.append(classifiers[i][0])\n",
    "    y.append(classifiers[i][1])\n",
    "    z.append(classifiers[i][2])\n",
    "    \n",
    "plt.plot(x,z,color='r')\n",
    "plt.xlabel('C',fontsize=16)\n",
    "plt.ylabel('Accuracy',fontsize=16)\n",
    "plt.xticks(fontsize=16)\n",
    "plt.yticks(fontsize=16)\n",
    "plt.show()"
   ]
  },
  {
   "cell_type": "markdown",
   "metadata": {},
   "source": [
    "## Learning curve"
   ]
  },
  {
   "cell_type": "code",
   "execution_count": 11,
   "metadata": {},
   "outputs": [
    {
     "data": {
      "text/plain": [
       "<module 'matplotlib.pyplot' from 'C:\\\\Users\\\\Admin\\\\Anaconda3\\\\lib\\\\site-packages\\\\matplotlib\\\\pyplot.py'>"
      ]
     },
     "execution_count": 11,
     "metadata": {},
     "output_type": "execute_result"
    },
    {
     "data": {
      "image/png": "[encoded data removed]",
      "text/plain": [
       "<Figure size 432x288 with 1 Axes>"
      ]
     },
     "metadata": {
      "needs_background": "light"
     },
     "output_type": "display_data"
    }
   ],
   "source": [
    "def plot_learning_curve(estimator, title, X, y, ylim=None, cv=None,\n",
    "                        n_jobs=None, train_sizes=np.linspace(.1, 1.0, 5)):\n",
    "    \n",
    "    plt.figure()\n",
    "    plt.title(title)\n",
    "    if ylim is not None:\n",
    "        plt.ylim(*ylim)\n",
    "    plt.xlabel(\"Training examples\")\n",
    "    plt.ylabel(\"Score\")\n",
    "    train_sizes, train_scores, test_scores = learning_curve(\n",
    "        estimator, X, y, cv=cv, n_jobs=n_jobs, train_sizes=train_sizes)\n",
    "    train_scores_mean = np.mean(train_scores, axis=1)\n",
    "    train_scores_std = np.std(train_scores, axis=1)\n",
    "    test_scores_mean = np.mean(test_scores, axis=1)\n",
    "    test_scores_std = np.std(test_scores, axis=1)\n",
    "    plt.grid()\n",
    "\n",
    "    plt.fill_between(train_sizes, train_scores_mean - train_scores_std,\n",
    "                     train_scores_mean + train_scores_std, alpha=0.1,\n",
    "                     color=\"r\")\n",
    "    plt.fill_between(train_sizes, test_scores_mean - test_scores_std,\n",
    "                     test_scores_mean + test_scores_std, alpha=0.1, color=\"g\")\n",
    "    plt.plot(train_sizes, train_scores_mean, 'o-', color=\"r\",\n",
    "             label=\"Training score\")\n",
    "    plt.plot(train_sizes, test_scores_mean, 'o-', color=\"g\",\n",
    "             label=\"Cross-validation score\")\n",
    "\n",
    "    plt.legend(loc=\"best\")\n",
    "    return plt\n",
    "\n",
    "\n",
    "\n",
    "\n",
    "title = \"Learning Curves (SVM)\"\n",
    "# Cross validation with 100 iterations to get smoother mean test and train\n",
    "# score curves, each time with 20% data randomly selected as a validation set.\n",
    "cv = ShuffleSplit(n_splits=100, test_size=0.2, random_state=0)\n",
    "\n",
    "estimator = SVC(gamma=0.001)\n",
    "plot_learning_curve(estimator, title, imtrainp, train_set, ylim=(0.1, 1.01), cv=cv, n_jobs=4)"
   ]
  },
  {
   "cell_type": "code",
   "execution_count": null,
   "metadata": {},
   "outputs": [],
   "source": []
  },
  {
   "cell_type": "markdown",
   "metadata": {},
   "source": [
    "## Hyper-parameters using the validation set"
   ]
  },
  {
   "cell_type": "code",
   "execution_count": 12,
   "metadata": {},
   "outputs": [
    {
     "name": "stderr",
     "output_type": "stream",
     "text": [
      "C:\\Users\\Admin\\Anaconda3\\lib\\site-packages\\sklearn\\model_selection\\_split.py:2053: FutureWarning: You should specify a value for 'cv' instead of relying on the default value. The default value will change from 3 to 5 in version 0.22.\n",
      "  warnings.warn(CV_WARNING, FutureWarning)\n",
      "C:\\Users\\Admin\\Anaconda3\\lib\\site-packages\\sklearn\\model_selection\\_split.py:652: Warning: The least populated class in y has only 1 members, which is too few. The minimum number of members in any class cannot be less than n_splits=3.\n",
      "  % (min_groups, self.n_splits)), Warning)\n",
      "[Parallel(n_jobs=1)]: Using backend SequentialBackend with 1 concurrent workers.\n",
      "[Parallel(n_jobs=1)]: Done   1 out of   1 | elapsed:    0.0s remaining:    0.0s\n",
      "[Parallel(n_jobs=1)]: Done   2 out of   2 | elapsed:    0.0s remaining:    0.0s\n"
     ]
    },
    {
     "name": "stdout",
     "output_type": "stream",
     "text": [
      "Fitting 3 folds for each of 75 candidates, totalling 225 fits\n",
      "[CV] C=0.1, gamma=1, kernel=rbf ......................................\n",
      "[CV]  C=0.1, gamma=1, kernel=rbf, score=0.2777777777777778, total=   0.0s\n",
      "[CV] C=0.1, gamma=1, kernel=rbf ......................................\n",
      "[CV] ......... C=0.1, gamma=1, kernel=rbf, score=0.3125, total=   0.0s\n",
      "[CV] C=0.1, gamma=1, kernel=rbf ......................................\n",
      "[CV]  C=0.1, gamma=1, kernel=rbf, score=0.35714285714285715, total=   0.0s\n",
      "[CV] C=0.1, gamma=1, kernel=poly .....................................\n",
      "[CV]  C=0.1, gamma=1, kernel=poly, score=0.1111111111111111, total=   0.0s\n",
      "[CV] C=0.1, gamma=1, kernel=poly .....................................\n",
      "[CV] ........ C=0.1, gamma=1, kernel=poly, score=0.1875, total=   0.0s\n",
      "[CV] C=0.1, gamma=1, kernel=poly .....................................\n",
      "[CV]  C=0.1, gamma=1, kernel=poly, score=0.42857142857142855, total=   0.0s\n",
      "[CV] C=0.1, gamma=1, kernel=sigmoid ..................................\n",
      "[CV]  C=0.1, gamma=1, kernel=sigmoid, score=0.2777777777777778, total=   0.0s\n",
      "[CV] C=0.1, gamma=1, kernel=sigmoid ..................................\n",
      "[CV] ..... C=0.1, gamma=1, kernel=sigmoid, score=0.3125, total=   0.0s\n",
      "[CV] C=0.1, gamma=1, kernel=sigmoid ..................................\n",
      "[CV]  C=0.1, gamma=1, kernel=sigmoid, score=0.35714285714285715, total=   0.0s\n",
      "[CV] C=0.1, gamma=0.1, kernel=rbf ....................................\n",
      "[CV]  C=0.1, gamma=0.1, kernel=rbf, score=0.2777777777777778, total=   0.0s\n",
      "[CV] C=0.1, gamma=0.1, kernel=rbf ....................................\n",
      "[CV] ....... C=0.1, gamma=0.1, kernel=rbf, score=0.3125, total=   0.0s\n",
      "[CV] C=0.1, gamma=0.1, kernel=rbf ....................................\n",
      "[CV]  C=0.1, gamma=0.1, kernel=rbf, score=0.35714285714285715, total=   0.0s\n",
      "[CV] C=0.1, gamma=0.1, kernel=poly ...................................\n",
      "[CV]  C=0.1, gamma=0.1, kernel=poly, score=0.1111111111111111, total=   0.0s\n",
      "[CV] C=0.1, gamma=0.1, kernel=poly ...................................\n",
      "[CV] ...... C=0.1, gamma=0.1, kernel=poly, score=0.1875, total=   0.0s\n",
      "[CV] C=0.1, gamma=0.1, kernel=poly ...................................\n",
      "[CV]  C=0.1, gamma=0.1, kernel=poly, score=0.42857142857142855, total=   0.0s\n",
      "[CV] C=0.1, gamma=0.1, kernel=sigmoid ................................\n",
      "[CV]  C=0.1, gamma=0.1, kernel=sigmoid, score=0.2777777777777778, total=   0.0s\n",
      "[CV] C=0.1, gamma=0.1, kernel=sigmoid ................................\n",
      "[CV] ... C=0.1, gamma=0.1, kernel=sigmoid, score=0.3125, total=   0.0s\n",
      "[CV] C=0.1, gamma=0.1, kernel=sigmoid ................................\n",
      "[CV]  C=0.1, gamma=0.1, kernel=sigmoid, score=0.35714285714285715, total=   0.0s\n",
      "[CV] C=0.1, gamma=0.01, kernel=rbf ...................................\n",
      "[CV]  C=0.1, gamma=0.01, kernel=rbf, score=0.2777777777777778, total=   0.0s\n",
      "[CV] C=0.1, gamma=0.01, kernel=rbf ...................................\n",
      "[CV] ...... C=0.1, gamma=0.01, kernel=rbf, score=0.3125, total=   0.0s\n",
      "[CV] C=0.1, gamma=0.01, kernel=rbf ...................................\n",
      "[CV]  C=0.1, gamma=0.01, kernel=rbf, score=0.35714285714285715, total=   0.0s\n",
      "[CV] C=0.1, gamma=0.01, kernel=poly ..................................\n",
      "[CV]  C=0.1, gamma=0.01, kernel=poly, score=0.3333333333333333, total=   0.0s\n",
      "[CV] C=0.1, gamma=0.01, kernel=poly ..................................\n",
      "[CV] ..... C=0.1, gamma=0.01, kernel=poly, score=0.3125, total=   0.0s\n",
      "[CV] C=0.1, gamma=0.01, kernel=poly ..................................\n",
      "[CV]  C=0.1, gamma=0.01, kernel=poly, score=0.35714285714285715, total=   0.0s\n",
      "[CV] C=0.1, gamma=0.01, kernel=sigmoid ...............................\n",
      "[CV]  C=0.1, gamma=0.01, kernel=sigmoid, score=0.2777777777777778, total=   0.0s\n",
      "[CV] C=0.1, gamma=0.01, kernel=sigmoid ...............................\n",
      "[CV] .. C=0.1, gamma=0.01, kernel=sigmoid, score=0.3125, total=   0.0s\n",
      "[CV] C=0.1, gamma=0.01, kernel=sigmoid ...............................\n",
      "[CV]  C=0.1, gamma=0.01, kernel=sigmoid, score=0.35714285714285715, total=   0.0s\n",
      "[CV] C=0.1, gamma=0.001, kernel=rbf ..................................\n",
      "[CV]  C=0.1, gamma=0.001, kernel=rbf, score=0.2777777777777778, total=   0.0s\n",
      "[CV] C=0.1, gamma=0.001, kernel=rbf ..................................\n",
      "[CV] ..... C=0.1, gamma=0.001, kernel=rbf, score=0.3125, total=   0.0s\n",
      "[CV] C=0.1, gamma=0.001, kernel=rbf ..................................\n",
      "[CV]  C=0.1, gamma=0.001, kernel=rbf, score=0.35714285714285715, total=   0.0s\n",
      "[CV] C=0.1, gamma=0.001, kernel=poly .................................\n",
      "[CV]  C=0.1, gamma=0.001, kernel=poly, score=0.2777777777777778, total=   0.0s\n",
      "[CV] C=0.1, gamma=0.001, kernel=poly .................................\n",
      "[CV] .... C=0.1, gamma=0.001, kernel=poly, score=0.3125, total=   0.0s\n",
      "[CV] C=0.1, gamma=0.001, kernel=poly .................................\n",
      "[CV]  C=0.1, gamma=0.001, kernel=poly, score=0.35714285714285715, total=   0.0s\n",
      "[CV] C=0.1, gamma=0.001, kernel=sigmoid ..............................\n",
      "[CV]  C=0.1, gamma=0.001, kernel=sigmoid, score=0.2777777777777778, total=   0.0s\n",
      "[CV] C=0.1, gamma=0.001, kernel=sigmoid ..............................\n",
      "[CV] . C=0.1, gamma=0.001, kernel=sigmoid, score=0.3125, total=   0.0s\n",
      "[CV] C=0.1, gamma=0.001, kernel=sigmoid ..............................\n",
      "[CV]  C=0.1, gamma=0.001, kernel=sigmoid, score=0.35714285714285715, total=   0.0s\n",
      "[CV] C=0.1, gamma=0.0001, kernel=rbf .................................\n",
      "[CV]  C=0.1, gamma=0.0001, kernel=rbf, score=0.2777777777777778, total=   0.0s\n",
      "[CV] C=0.1, gamma=0.0001, kernel=rbf .................................\n",
      "[CV] .... C=0.1, gamma=0.0001, kernel=rbf, score=0.3125, total=   0.0s\n",
      "[CV] C=0.1, gamma=0.0001, kernel=rbf .................................\n",
      "[CV]  C=0.1, gamma=0.0001, kernel=rbf, score=0.35714285714285715, total=   0.0s\n",
      "[CV] C=0.1, gamma=0.0001, kernel=poly ................................\n",
      "[CV]  C=0.1, gamma=0.0001, kernel=poly, score=0.2777777777777778, total=   0.0s\n",
      "[CV] C=0.1, gamma=0.0001, kernel=poly ................................\n",
      "[CV] ... C=0.1, gamma=0.0001, kernel=poly, score=0.3125, total=   0.0s\n",
      "[CV] C=0.1, gamma=0.0001, kernel=poly ................................\n",
      "[CV]  C=0.1, gamma=0.0001, kernel=poly, score=0.35714285714285715, total=   0.0s\n",
      "[CV] C=0.1, gamma=0.0001, kernel=sigmoid .............................\n",
      "[CV]  C=0.1, gamma=0.0001, kernel=sigmoid, score=0.2777777777777778, total=   0.0s\n",
      "[CV] C=0.1, gamma=0.0001, kernel=sigmoid .............................\n",
      "[CV]  C=0.1, gamma=0.0001, kernel=sigmoid, score=0.3125, total=   0.0s\n",
      "[CV] C=0.1, gamma=0.0001, kernel=sigmoid .............................\n",
      "[CV]  C=0.1, gamma=0.0001, kernel=sigmoid, score=0.35714285714285715, total=   0.0s\n",
      "[CV] C=1, gamma=1, kernel=rbf ........................................\n",
      "[CV]  C=1, gamma=1, kernel=rbf, score=0.2777777777777778, total=   0.0s\n",
      "[CV] C=1, gamma=1, kernel=rbf ........................................\n",
      "[CV] ........... C=1, gamma=1, kernel=rbf, score=0.3125, total=   0.0s\n",
      "[CV] C=1, gamma=1, kernel=rbf ........................................\n",
      "[CV]  C=1, gamma=1, kernel=rbf, score=0.35714285714285715, total=   0.0s\n",
      "[CV] C=1, gamma=1, kernel=poly .......................................\n",
      "[CV]  C=1, gamma=1, kernel=poly, score=0.1111111111111111, total=   0.0s\n",
      "[CV] C=1, gamma=1, kernel=poly .......................................\n",
      "[CV] .......... C=1, gamma=1, kernel=poly, score=0.1875, total=   0.0s\n",
      "[CV] C=1, gamma=1, kernel=poly .......................................\n",
      "[CV]  C=1, gamma=1, kernel=poly, score=0.42857142857142855, total=   0.0s\n",
      "[CV] C=1, gamma=1, kernel=sigmoid ....................................\n",
      "[CV]  C=1, gamma=1, kernel=sigmoid, score=0.16666666666666666, total=   0.0s\n",
      "[CV] C=1, gamma=1, kernel=sigmoid ....................................\n",
      "[CV] ....... C=1, gamma=1, kernel=sigmoid, score=0.1875, total=   0.0s\n",
      "[CV] C=1, gamma=1, kernel=sigmoid ....................................\n",
      "[CV]  C=1, gamma=1, kernel=sigmoid, score=0.21428571428571427, total=   0.0s\n",
      "[CV] C=1, gamma=0.1, kernel=rbf ......................................\n",
      "[CV]  C=1, gamma=0.1, kernel=rbf, score=0.2777777777777778, total=   0.0s\n",
      "[CV] C=1, gamma=0.1, kernel=rbf ......................................\n",
      "[CV] ......... C=1, gamma=0.1, kernel=rbf, score=0.3125, total=   0.0s\n",
      "[CV] C=1, gamma=0.1, kernel=rbf ......................................\n",
      "[CV]  C=1, gamma=0.1, kernel=rbf, score=0.35714285714285715, total=   0.0s\n",
      "[CV] C=1, gamma=0.1, kernel=poly .....................................\n",
      "[CV]  C=1, gamma=0.1, kernel=poly, score=0.1111111111111111, total=   0.0s\n",
      "[CV] C=1, gamma=0.1, kernel=poly .....................................\n",
      "[CV] ........ C=1, gamma=0.1, kernel=poly, score=0.1875, total=   0.0s\n",
      "[CV] C=1, gamma=0.1, kernel=poly .....................................\n",
      "[CV]  C=1, gamma=0.1, kernel=poly, score=0.42857142857142855, total=   0.0s\n",
      "[CV] C=1, gamma=0.1, kernel=sigmoid ..................................\n",
      "[CV]  C=1, gamma=0.1, kernel=sigmoid, score=0.1111111111111111, total=   0.0s\n",
      "[CV] C=1, gamma=0.1, kernel=sigmoid ..................................\n",
      "[CV] ..... C=1, gamma=0.1, kernel=sigmoid, score=0.1875, total=   0.0s\n",
      "[CV] C=1, gamma=0.1, kernel=sigmoid ..................................\n",
      "[CV]  C=1, gamma=0.1, kernel=sigmoid, score=0.42857142857142855, total=   0.0s\n",
      "[CV] C=1, gamma=0.01, kernel=rbf .....................................\n",
      "[CV]  C=1, gamma=0.01, kernel=rbf, score=0.2222222222222222, total=   0.0s\n"
     ]
    },
    {
     "name": "stdout",
     "output_type": "stream",
     "text": [
      "[CV] C=1, gamma=0.01, kernel=rbf .....................................\n",
      "[CV] .......... C=1, gamma=0.01, kernel=rbf, score=0.25, total=   0.0s\n",
      "[CV] C=1, gamma=0.01, kernel=rbf .....................................\n",
      "[CV]  C=1, gamma=0.01, kernel=rbf, score=0.35714285714285715, total=   0.0s\n",
      "[CV] C=1, gamma=0.01, kernel=poly ....................................\n",
      "[CV]  C=1, gamma=0.01, kernel=poly, score=0.3888888888888889, total=   0.0s\n",
      "[CV] C=1, gamma=0.01, kernel=poly ....................................\n",
      "[CV] ....... C=1, gamma=0.01, kernel=poly, score=0.3125, total=   0.0s\n",
      "[CV] C=1, gamma=0.01, kernel=poly ....................................\n",
      "[CV]  C=1, gamma=0.01, kernel=poly, score=0.21428571428571427, total=   0.0s\n",
      "[CV] C=1, gamma=0.01, kernel=sigmoid .................................\n",
      "[CV]  C=1, gamma=0.01, kernel=sigmoid, score=0.16666666666666666, total=   0.0s\n",
      "[CV] C=1, gamma=0.01, kernel=sigmoid .................................\n",
      "[CV] .... C=1, gamma=0.01, kernel=sigmoid, score=0.1875, total=   0.0s\n",
      "[CV] C=1, gamma=0.01, kernel=sigmoid .................................\n",
      "[CV]  C=1, gamma=0.01, kernel=sigmoid, score=0.42857142857142855, total=   0.0s\n",
      "[CV] C=1, gamma=0.001, kernel=rbf ....................................\n",
      "[CV]  C=1, gamma=0.001, kernel=rbf, score=0.2777777777777778, total=   0.0s\n",
      "[CV] C=1, gamma=0.001, kernel=rbf ....................................\n",
      "[CV] ....... C=1, gamma=0.001, kernel=rbf, score=0.3125, total=   0.0s\n",
      "[CV] C=1, gamma=0.001, kernel=rbf ....................................\n",
      "[CV]  C=1, gamma=0.001, kernel=rbf, score=0.35714285714285715, total=   0.0s\n",
      "[CV] C=1, gamma=0.001, kernel=poly ...................................\n",
      "[CV]  C=1, gamma=0.001, kernel=poly, score=0.2777777777777778, total=   0.0s\n",
      "[CV] C=1, gamma=0.001, kernel=poly ...................................\n",
      "[CV] ...... C=1, gamma=0.001, kernel=poly, score=0.3125, total=   0.0s\n",
      "[CV] C=1, gamma=0.001, kernel=poly ...................................\n",
      "[CV]  C=1, gamma=0.001, kernel=poly, score=0.35714285714285715, total=   0.0s\n",
      "[CV] C=1, gamma=0.001, kernel=sigmoid ................................\n",
      "[CV]  C=1, gamma=0.001, kernel=sigmoid, score=0.2777777777777778, total=   0.0s\n",
      "[CV] C=1, gamma=0.001, kernel=sigmoid ................................\n",
      "[CV] ... C=1, gamma=0.001, kernel=sigmoid, score=0.3125, total=   0.0s\n",
      "[CV] C=1, gamma=0.001, kernel=sigmoid ................................\n",
      "[CV]  C=1, gamma=0.001, kernel=sigmoid, score=0.35714285714285715, total=   0.0s\n",
      "[CV] C=1, gamma=0.0001, kernel=rbf ...................................\n",
      "[CV]  C=1, gamma=0.0001, kernel=rbf, score=0.2777777777777778, total=   0.0s\n",
      "[CV] C=1, gamma=0.0001, kernel=rbf ...................................\n",
      "[CV] ...... C=1, gamma=0.0001, kernel=rbf, score=0.3125, total=   0.0s\n",
      "[CV] C=1, gamma=0.0001, kernel=rbf ...................................\n",
      "[CV]  C=1, gamma=0.0001, kernel=rbf, score=0.35714285714285715, total=   0.0s\n",
      "[CV] C=1, gamma=0.0001, kernel=poly ..................................\n",
      "[CV]  C=1, gamma=0.0001, kernel=poly, score=0.2777777777777778, total=   0.0s\n",
      "[CV] C=1, gamma=0.0001, kernel=poly ..................................\n",
      "[CV] ..... C=1, gamma=0.0001, kernel=poly, score=0.3125, total=   0.0s\n",
      "[CV] C=1, gamma=0.0001, kernel=poly ..................................\n",
      "[CV]  C=1, gamma=0.0001, kernel=poly, score=0.35714285714285715, total=   0.0s\n",
      "[CV] C=1, gamma=0.0001, kernel=sigmoid ...............................\n",
      "[CV]  C=1, gamma=0.0001, kernel=sigmoid, score=0.2777777777777778, total=   0.0s\n",
      "[CV] C=1, gamma=0.0001, kernel=sigmoid ...............................\n",
      "[CV] .. C=1, gamma=0.0001, kernel=sigmoid, score=0.3125, total=   0.0s\n",
      "[CV] C=1, gamma=0.0001, kernel=sigmoid ...............................\n",
      "[CV]  C=1, gamma=0.0001, kernel=sigmoid, score=0.35714285714285715, total=   0.0s\n",
      "[CV] C=10, gamma=1, kernel=rbf .......................................\n",
      "[CV]  C=10, gamma=1, kernel=rbf, score=0.2777777777777778, total=   0.0s\n",
      "[CV] C=10, gamma=1, kernel=rbf .......................................\n",
      "[CV] .......... C=10, gamma=1, kernel=rbf, score=0.3125, total=   0.0s\n",
      "[CV] C=10, gamma=1, kernel=rbf .......................................\n",
      "[CV]  C=10, gamma=1, kernel=rbf, score=0.35714285714285715, total=   0.0s\n",
      "[CV] C=10, gamma=1, kernel=poly ......................................\n",
      "[CV]  C=10, gamma=1, kernel=poly, score=0.1111111111111111, total=   0.0s\n",
      "[CV] C=10, gamma=1, kernel=poly ......................................\n",
      "[CV] ......... C=10, gamma=1, kernel=poly, score=0.1875, total=   0.0s\n",
      "[CV] C=10, gamma=1, kernel=poly ......................................\n",
      "[CV]  C=10, gamma=1, kernel=poly, score=0.42857142857142855, total=   0.0s\n",
      "[CV] C=10, gamma=1, kernel=sigmoid ...................................\n",
      "[CV]  C=10, gamma=1, kernel=sigmoid, score=0.1111111111111111, total=   0.0s\n",
      "[CV] C=10, gamma=1, kernel=sigmoid ...................................\n",
      "[CV] ...... C=10, gamma=1, kernel=sigmoid, score=0.1875, total=   0.0s\n",
      "[CV] C=10, gamma=1, kernel=sigmoid ...................................\n",
      "[CV]  C=10, gamma=1, kernel=sigmoid, score=0.21428571428571427, total=   0.0s\n",
      "[CV] C=10, gamma=0.1, kernel=rbf .....................................\n",
      "[CV]  C=10, gamma=0.1, kernel=rbf, score=0.2777777777777778, total=   0.0s\n",
      "[CV] C=10, gamma=0.1, kernel=rbf .....................................\n",
      "[CV] ........ C=10, gamma=0.1, kernel=rbf, score=0.3125, total=   0.0s\n",
      "[CV] C=10, gamma=0.1, kernel=rbf .....................................\n",
      "[CV]  C=10, gamma=0.1, kernel=rbf, score=0.35714285714285715, total=   0.0s\n",
      "[CV] C=10, gamma=0.1, kernel=poly ....................................\n",
      "[CV]  C=10, gamma=0.1, kernel=poly, score=0.1111111111111111, total=   0.0s\n",
      "[CV] C=10, gamma=0.1, kernel=poly ....................................\n",
      "[CV] ....... C=10, gamma=0.1, kernel=poly, score=0.1875, total=   0.0s\n",
      "[CV] C=10, gamma=0.1, kernel=poly ....................................\n",
      "[CV]  C=10, gamma=0.1, kernel=poly, score=0.42857142857142855, total=   0.0s\n",
      "[CV] C=10, gamma=0.1, kernel=sigmoid .................................\n",
      "[CV]  C=10, gamma=0.1, kernel=sigmoid, score=0.1111111111111111, total=   0.0s\n",
      "[CV] C=10, gamma=0.1, kernel=sigmoid .................................\n",
      "[CV] .... C=10, gamma=0.1, kernel=sigmoid, score=0.1875, total=   0.0s\n",
      "[CV] C=10, gamma=0.1, kernel=sigmoid .................................\n",
      "[CV]  C=10, gamma=0.1, kernel=sigmoid, score=0.2857142857142857, total=   0.0s\n",
      "[CV] C=10, gamma=0.01, kernel=rbf ....................................\n",
      "[CV]  C=10, gamma=0.01, kernel=rbf, score=0.2222222222222222, total=   0.0s\n",
      "[CV] C=10, gamma=0.01, kernel=rbf ....................................\n",
      "[CV] ....... C=10, gamma=0.01, kernel=rbf, score=0.3125, total=   0.0s\n",
      "[CV] C=10, gamma=0.01, kernel=rbf ....................................\n",
      "[CV] .......... C=10, gamma=0.01, kernel=rbf, score=0.5, total=   0.0s\n",
      "[CV] C=10, gamma=0.01, kernel=poly ...................................\n",
      "[CV]  C=10, gamma=0.01, kernel=poly, score=0.2222222222222222, total=   0.0s\n",
      "[CV] C=10, gamma=0.01, kernel=poly ...................................\n",
      "[CV] ........ C=10, gamma=0.01, kernel=poly, score=0.25, total=   0.0s\n",
      "[CV] C=10, gamma=0.01, kernel=poly ...................................\n",
      "[CV]  C=10, gamma=0.01, kernel=poly, score=0.2857142857142857, total=   0.0s\n",
      "[CV] C=10, gamma=0.01, kernel=sigmoid ................................\n",
      "[CV]  C=10, gamma=0.01, kernel=sigmoid, score=0.3333333333333333, total=   0.0s\n",
      "[CV] C=10, gamma=0.01, kernel=sigmoid ................................\n",
      "[CV] ... C=10, gamma=0.01, kernel=sigmoid, score=0.0625, total=   0.0s\n",
      "[CV] C=10, gamma=0.01, kernel=sigmoid ................................\n",
      "[CV]  C=10, gamma=0.01, kernel=sigmoid, score=0.21428571428571427, total=   0.0s\n",
      "[CV] C=10, gamma=0.001, kernel=rbf ...................................\n",
      "[CV]  C=10, gamma=0.001, kernel=rbf, score=0.2222222222222222, total=   0.0s\n",
      "[CV] C=10, gamma=0.001, kernel=rbf ...................................\n",
      "[CV] ....... C=10, gamma=0.001, kernel=rbf, score=0.125, total=   0.0s\n",
      "[CV] C=10, gamma=0.001, kernel=rbf ...................................\n",
      "[CV]  C=10, gamma=0.001, kernel=rbf, score=0.21428571428571427, total=   0.0s\n",
      "[CV] C=10, gamma=0.001, kernel=poly ..................................\n",
      "[CV]  C=10, gamma=0.001, kernel=poly, score=0.2777777777777778, total=   0.0s\n",
      "[CV] C=10, gamma=0.001, kernel=poly ..................................\n",
      "[CV] ..... C=10, gamma=0.001, kernel=poly, score=0.3125, total=   0.0s\n",
      "[CV] C=10, gamma=0.001, kernel=poly ..................................\n",
      "[CV]  C=10, gamma=0.001, kernel=poly, score=0.35714285714285715, total=   0.0s\n",
      "[CV] C=10, gamma=0.001, kernel=sigmoid ...............................\n",
      "[CV]  C=10, gamma=0.001, kernel=sigmoid, score=0.2222222222222222, total=   0.0s\n",
      "[CV] C=10, gamma=0.001, kernel=sigmoid ...............................\n",
      "[CV] .... C=10, gamma=0.001, kernel=sigmoid, score=0.25, total=   0.0s\n",
      "[CV] C=10, gamma=0.001, kernel=sigmoid ...............................\n",
      "[CV]  C=10, gamma=0.001, kernel=sigmoid, score=0.35714285714285715, total=   0.0s\n",
      "[CV] C=10, gamma=0.0001, kernel=rbf ..................................\n",
      "[CV]  C=10, gamma=0.0001, kernel=rbf, score=0.2777777777777778, total=   0.0s\n",
      "[CV] C=10, gamma=0.0001, kernel=rbf ..................................\n",
      "[CV] ..... C=10, gamma=0.0001, kernel=rbf, score=0.3125, total=   0.0s\n",
      "[CV] C=10, gamma=0.0001, kernel=rbf ..................................\n",
      "[CV]  C=10, gamma=0.0001, kernel=rbf, score=0.35714285714285715, total=   0.0s\n",
      "[CV] C=10, gamma=0.0001, kernel=poly .................................\n",
      "[CV]  C=10, gamma=0.0001, kernel=poly, score=0.2777777777777778, total=   0.0s\n",
      "[CV] C=10, gamma=0.0001, kernel=poly .................................\n",
      "[CV] .... C=10, gamma=0.0001, kernel=poly, score=0.3125, total=   0.0s\n"
     ]
    },
    {
     "name": "stdout",
     "output_type": "stream",
     "text": [
      "[CV] C=10, gamma=0.0001, kernel=poly .................................\n",
      "[CV]  C=10, gamma=0.0001, kernel=poly, score=0.35714285714285715, total=   0.0s\n",
      "[CV] C=10, gamma=0.0001, kernel=sigmoid ..............................\n",
      "[CV]  C=10, gamma=0.0001, kernel=sigmoid, score=0.2777777777777778, total=   0.0s\n",
      "[CV] C=10, gamma=0.0001, kernel=sigmoid ..............................\n",
      "[CV] . C=10, gamma=0.0001, kernel=sigmoid, score=0.3125, total=   0.0s\n",
      "[CV] C=10, gamma=0.0001, kernel=sigmoid ..............................\n",
      "[CV]  C=10, gamma=0.0001, kernel=sigmoid, score=0.35714285714285715, total=   0.0s\n",
      "[CV] C=100, gamma=1, kernel=rbf ......................................\n",
      "[CV]  C=100, gamma=1, kernel=rbf, score=0.2777777777777778, total=   0.0s\n",
      "[CV] C=100, gamma=1, kernel=rbf ......................................\n",
      "[CV] ......... C=100, gamma=1, kernel=rbf, score=0.3125, total=   0.0s\n",
      "[CV] C=100, gamma=1, kernel=rbf ......................................\n",
      "[CV]  C=100, gamma=1, kernel=rbf, score=0.35714285714285715, total=   0.0s\n",
      "[CV] C=100, gamma=1, kernel=poly .....................................\n",
      "[CV]  C=100, gamma=1, kernel=poly, score=0.1111111111111111, total=   0.0s\n",
      "[CV] C=100, gamma=1, kernel=poly .....................................\n",
      "[CV] ........ C=100, gamma=1, kernel=poly, score=0.1875, total=   0.0s\n",
      "[CV] C=100, gamma=1, kernel=poly .....................................\n",
      "[CV]  C=100, gamma=1, kernel=poly, score=0.42857142857142855, total=   0.0s\n",
      "[CV] C=100, gamma=1, kernel=sigmoid ..................................\n",
      "[CV]  C=100, gamma=1, kernel=sigmoid, score=0.16666666666666666, total=   0.0s\n",
      "[CV] C=100, gamma=1, kernel=sigmoid ..................................\n",
      "[CV] ..... C=100, gamma=1, kernel=sigmoid, score=0.1875, total=   0.0s\n",
      "[CV] C=100, gamma=1, kernel=sigmoid ..................................\n",
      "[CV]  C=100, gamma=1, kernel=sigmoid, score=0.21428571428571427, total=   0.0s\n",
      "[CV] C=100, gamma=0.1, kernel=rbf ....................................\n",
      "[CV]  C=100, gamma=0.1, kernel=rbf, score=0.2777777777777778, total=   0.0s\n",
      "[CV] C=100, gamma=0.1, kernel=rbf ....................................\n",
      "[CV] ....... C=100, gamma=0.1, kernel=rbf, score=0.3125, total=   0.0s\n",
      "[CV] C=100, gamma=0.1, kernel=rbf ....................................\n",
      "[CV]  C=100, gamma=0.1, kernel=rbf, score=0.35714285714285715, total=   0.0s\n",
      "[CV] C=100, gamma=0.1, kernel=poly ...................................\n",
      "[CV]  C=100, gamma=0.1, kernel=poly, score=0.1111111111111111, total=   0.0s\n",
      "[CV] C=100, gamma=0.1, kernel=poly ...................................\n",
      "[CV] ...... C=100, gamma=0.1, kernel=poly, score=0.1875, total=   0.0s\n",
      "[CV] C=100, gamma=0.1, kernel=poly ...................................\n",
      "[CV]  C=100, gamma=0.1, kernel=poly, score=0.42857142857142855, total=   0.0s\n",
      "[CV] C=100, gamma=0.1, kernel=sigmoid ................................\n",
      "[CV]  C=100, gamma=0.1, kernel=sigmoid, score=0.16666666666666666, total=   0.0s\n",
      "[CV] C=100, gamma=0.1, kernel=sigmoid ................................\n",
      "[CV] ... C=100, gamma=0.1, kernel=sigmoid, score=0.1875, total=   0.0s\n",
      "[CV] C=100, gamma=0.1, kernel=sigmoid ................................\n",
      "[CV]  C=100, gamma=0.1, kernel=sigmoid, score=0.2857142857142857, total=   0.0s\n",
      "[CV] C=100, gamma=0.01, kernel=rbf ...................................\n",
      "[CV]  C=100, gamma=0.01, kernel=rbf, score=0.2222222222222222, total=   0.0s\n",
      "[CV] C=100, gamma=0.01, kernel=rbf ...................................\n",
      "[CV] ...... C=100, gamma=0.01, kernel=rbf, score=0.3125, total=   0.0s\n",
      "[CV] C=100, gamma=0.01, kernel=rbf ...................................\n",
      "[CV] ......... C=100, gamma=0.01, kernel=rbf, score=0.5, total=   0.0s\n",
      "[CV] C=100, gamma=0.01, kernel=poly ..................................\n",
      "[CV]  C=100, gamma=0.01, kernel=poly, score=0.1111111111111111, total=   0.0s\n",
      "[CV] C=100, gamma=0.01, kernel=poly ..................................\n",
      "[CV] ..... C=100, gamma=0.01, kernel=poly, score=0.1875, total=   0.0s\n",
      "[CV] C=100, gamma=0.01, kernel=poly ..................................\n",
      "[CV]  C=100, gamma=0.01, kernel=poly, score=0.42857142857142855, total=   0.0s\n",
      "[CV] C=100, gamma=0.01, kernel=sigmoid ...............................\n",
      "[CV]  C=100, gamma=0.01, kernel=sigmoid, score=0.2777777777777778, total=   0.0s\n",
      "[CV] C=100, gamma=0.01, kernel=sigmoid ...............................\n",
      "[CV] ... C=100, gamma=0.01, kernel=sigmoid, score=0.125, total=   0.0s\n",
      "[CV] C=100, gamma=0.01, kernel=sigmoid ...............................\n",
      "[CV]  C=100, gamma=0.01, kernel=sigmoid, score=0.21428571428571427, total=   0.0s\n",
      "[CV] C=100, gamma=0.001, kernel=rbf ..................................\n",
      "[CV]  C=100, gamma=0.001, kernel=rbf, score=0.16666666666666666, total=   0.0s\n",
      "[CV] C=100, gamma=0.001, kernel=rbf ..................................\n",
      "[CV] ..... C=100, gamma=0.001, kernel=rbf, score=0.3125, total=   0.0s\n",
      "[CV] C=100, gamma=0.001, kernel=rbf ..................................\n",
      "[CV]  C=100, gamma=0.001, kernel=rbf, score=0.42857142857142855, total=   0.0s\n",
      "[CV] C=100, gamma=0.001, kernel=poly .................................\n",
      "[CV]  C=100, gamma=0.001, kernel=poly, score=0.3333333333333333, total=   0.0s\n",
      "[CV] C=100, gamma=0.001, kernel=poly .................................\n",
      "[CV] .... C=100, gamma=0.001, kernel=poly, score=0.3125, total=   0.0s\n",
      "[CV] C=100, gamma=0.001, kernel=poly .................................\n",
      "[CV]  C=100, gamma=0.001, kernel=poly, score=0.35714285714285715, total=   0.0s\n",
      "[CV] C=100, gamma=0.001, kernel=sigmoid ..............................\n",
      "[CV]  C=100, gamma=0.001, kernel=sigmoid, score=0.3888888888888889, total=   0.0s\n",
      "[CV] C=100, gamma=0.001, kernel=sigmoid ..............................\n",
      "[CV] ... C=100, gamma=0.001, kernel=sigmoid, score=0.25, total=   0.0s\n",
      "[CV] C=100, gamma=0.001, kernel=sigmoid ..............................\n",
      "[CV]  C=100, gamma=0.001, kernel=sigmoid, score=0.35714285714285715, total=   0.0s\n",
      "[CV] C=100, gamma=0.0001, kernel=rbf .................................\n",
      "[CV]  C=100, gamma=0.0001, kernel=rbf, score=0.2222222222222222, total=   0.0s\n",
      "[CV] C=100, gamma=0.0001, kernel=rbf .................................\n",
      "[CV] ..... C=100, gamma=0.0001, kernel=rbf, score=0.125, total=   0.0s\n",
      "[CV] C=100, gamma=0.0001, kernel=rbf .................................\n",
      "[CV]  C=100, gamma=0.0001, kernel=rbf, score=0.35714285714285715, total=   0.0s\n",
      "[CV] C=100, gamma=0.0001, kernel=poly ................................\n",
      "[CV]  C=100, gamma=0.0001, kernel=poly, score=0.2777777777777778, total=   0.0s\n",
      "[CV] C=100, gamma=0.0001, kernel=poly ................................\n",
      "[CV] ... C=100, gamma=0.0001, kernel=poly, score=0.3125, total=   0.0s\n",
      "[CV] C=100, gamma=0.0001, kernel=poly ................................\n",
      "[CV]  C=100, gamma=0.0001, kernel=poly, score=0.35714285714285715, total=   0.0s\n",
      "[CV] C=100, gamma=0.0001, kernel=sigmoid .............................\n",
      "[CV]  C=100, gamma=0.0001, kernel=sigmoid, score=0.2222222222222222, total=   0.0s\n",
      "[CV] C=100, gamma=0.0001, kernel=sigmoid .............................\n",
      "[CV] .. C=100, gamma=0.0001, kernel=sigmoid, score=0.25, total=   0.0s\n",
      "[CV] C=100, gamma=0.0001, kernel=sigmoid .............................\n",
      "[CV]  C=100, gamma=0.0001, kernel=sigmoid, score=0.2857142857142857, total=   0.0s\n",
      "[CV] C=1000, gamma=1, kernel=rbf .....................................\n",
      "[CV]  C=1000, gamma=1, kernel=rbf, score=0.2777777777777778, total=   0.0s\n",
      "[CV] C=1000, gamma=1, kernel=rbf .....................................\n",
      "[CV] ........ C=1000, gamma=1, kernel=rbf, score=0.3125, total=   0.0s\n",
      "[CV] C=1000, gamma=1, kernel=rbf .....................................\n",
      "[CV]  C=1000, gamma=1, kernel=rbf, score=0.35714285714285715, total=   0.0s\n",
      "[CV] C=1000, gamma=1, kernel=poly ....................................\n",
      "[CV]  C=1000, gamma=1, kernel=poly, score=0.1111111111111111, total=   0.0s\n",
      "[CV] C=1000, gamma=1, kernel=poly ....................................\n",
      "[CV] ....... C=1000, gamma=1, kernel=poly, score=0.1875, total=   0.0s\n",
      "[CV] C=1000, gamma=1, kernel=poly ....................................\n",
      "[CV]  C=1000, gamma=1, kernel=poly, score=0.42857142857142855, total=   0.0s\n",
      "[CV] C=1000, gamma=1, kernel=sigmoid .................................\n",
      "[CV]  C=1000, gamma=1, kernel=sigmoid, score=0.1111111111111111, total=   0.0s\n",
      "[CV] C=1000, gamma=1, kernel=sigmoid .................................\n",
      "[CV] .... C=1000, gamma=1, kernel=sigmoid, score=0.1875, total=   0.0s\n",
      "[CV] C=1000, gamma=1, kernel=sigmoid .................................\n",
      "[CV]  C=1000, gamma=1, kernel=sigmoid, score=0.21428571428571427, total=   0.0s\n",
      "[CV] C=1000, gamma=0.1, kernel=rbf ...................................\n",
      "[CV]  C=1000, gamma=0.1, kernel=rbf, score=0.2777777777777778, total=   0.0s\n",
      "[CV] C=1000, gamma=0.1, kernel=rbf ...................................\n",
      "[CV] ...... C=1000, gamma=0.1, kernel=rbf, score=0.3125, total=   0.0s\n",
      "[CV] C=1000, gamma=0.1, kernel=rbf ...................................\n",
      "[CV]  C=1000, gamma=0.1, kernel=rbf, score=0.35714285714285715, total=   0.0s\n",
      "[CV] C=1000, gamma=0.1, kernel=poly ..................................\n",
      "[CV]  C=1000, gamma=0.1, kernel=poly, score=0.1111111111111111, total=   0.0s\n",
      "[CV] C=1000, gamma=0.1, kernel=poly ..................................\n",
      "[CV] ..... C=1000, gamma=0.1, kernel=poly, score=0.1875, total=   0.0s\n",
      "[CV] C=1000, gamma=0.1, kernel=poly ..................................\n",
      "[CV]  C=1000, gamma=0.1, kernel=poly, score=0.42857142857142855, total=   0.0s\n",
      "[CV] C=1000, gamma=0.1, kernel=sigmoid ...............................\n"
     ]
    },
    {
     "name": "stdout",
     "output_type": "stream",
     "text": [
      "[CV]  C=1000, gamma=0.1, kernel=sigmoid, score=0.16666666666666666, total=   0.0s\n",
      "[CV] C=1000, gamma=0.1, kernel=sigmoid ...............................\n",
      "[CV] .. C=1000, gamma=0.1, kernel=sigmoid, score=0.1875, total=   0.0s\n",
      "[CV] C=1000, gamma=0.1, kernel=sigmoid ...............................\n",
      "[CV]  C=1000, gamma=0.1, kernel=sigmoid, score=0.2857142857142857, total=   0.0s\n",
      "[CV] C=1000, gamma=0.01, kernel=rbf ..................................\n",
      "[CV]  C=1000, gamma=0.01, kernel=rbf, score=0.2222222222222222, total=   0.0s\n",
      "[CV] C=1000, gamma=0.01, kernel=rbf ..................................\n",
      "[CV] ..... C=1000, gamma=0.01, kernel=rbf, score=0.3125, total=   0.0s\n",
      "[CV] C=1000, gamma=0.01, kernel=rbf ..................................\n",
      "[CV] ........ C=1000, gamma=0.01, kernel=rbf, score=0.5, total=   0.0s\n",
      "[CV] C=1000, gamma=0.01, kernel=poly .................................\n",
      "[CV]  C=1000, gamma=0.01, kernel=poly, score=0.1111111111111111, total=   0.0s\n",
      "[CV] C=1000, gamma=0.01, kernel=poly .................................\n",
      "[CV] .... C=1000, gamma=0.01, kernel=poly, score=0.1875, total=   0.0s\n",
      "[CV] C=1000, gamma=0.01, kernel=poly .................................\n",
      "[CV]  C=1000, gamma=0.01, kernel=poly, score=0.42857142857142855, total=   0.0s\n",
      "[CV] C=1000, gamma=0.01, kernel=sigmoid ..............................\n",
      "[CV]  C=1000, gamma=0.01, kernel=sigmoid, score=0.2777777777777778, total=   0.0s\n",
      "[CV] C=1000, gamma=0.01, kernel=sigmoid ..............................\n",
      "[CV] .. C=1000, gamma=0.01, kernel=sigmoid, score=0.125, total=   0.0s\n",
      "[CV] C=1000, gamma=0.01, kernel=sigmoid ..............................\n",
      "[CV]  C=1000, gamma=0.01, kernel=sigmoid, score=0.14285714285714285, total=   0.0s\n",
      "[CV] C=1000, gamma=0.001, kernel=rbf .................................\n",
      "[CV]  C=1000, gamma=0.001, kernel=rbf, score=0.16666666666666666, total=   0.0s\n",
      "[CV] C=1000, gamma=0.001, kernel=rbf .................................\n",
      "[CV] .... C=1000, gamma=0.001, kernel=rbf, score=0.3125, total=   0.0s\n",
      "[CV] C=1000, gamma=0.001, kernel=rbf .................................\n",
      "[CV]  C=1000, gamma=0.001, kernel=rbf, score=0.42857142857142855, total=   0.0s\n",
      "[CV] C=1000, gamma=0.001, kernel=poly ................................\n",
      "[CV]  C=1000, gamma=0.001, kernel=poly, score=0.3888888888888889, total=   0.0s\n",
      "[CV] C=1000, gamma=0.001, kernel=poly ................................\n",
      "[CV] ... C=1000, gamma=0.001, kernel=poly, score=0.3125, total=   0.0s\n",
      "[CV] C=1000, gamma=0.001, kernel=poly ................................\n",
      "[CV]  C=1000, gamma=0.001, kernel=poly, score=0.21428571428571427, total=   0.0s\n",
      "[CV] C=1000, gamma=0.001, kernel=sigmoid .............................\n",
      "[CV]  C=1000, gamma=0.001, kernel=sigmoid, score=0.2777777777777778, total=   0.0s\n",
      "[CV] C=1000, gamma=0.001, kernel=sigmoid .............................\n",
      "[CV]  C=1000, gamma=0.001, kernel=sigmoid, score=0.3125, total=   0.0s\n",
      "[CV] C=1000, gamma=0.001, kernel=sigmoid .............................\n",
      "[CV]  C=1000, gamma=0.001, kernel=sigmoid, score=0.35714285714285715, total=   0.0s\n",
      "[CV] C=1000, gamma=0.0001, kernel=rbf ................................\n",
      "[CV]  C=1000, gamma=0.0001, kernel=rbf, score=0.2222222222222222, total=   0.0s\n",
      "[CV] C=1000, gamma=0.0001, kernel=rbf ................................\n",
      "[CV] ... C=1000, gamma=0.0001, kernel=rbf, score=0.3125, total=   0.0s\n",
      "[CV] C=1000, gamma=0.0001, kernel=rbf ................................\n",
      "[CV]  C=1000, gamma=0.0001, kernel=rbf, score=0.35714285714285715, total=   0.0s\n",
      "[CV] C=1000, gamma=0.0001, kernel=poly ...............................\n",
      "[CV]  C=1000, gamma=0.0001, kernel=poly, score=0.2777777777777778, total=   0.0s\n",
      "[CV] C=1000, gamma=0.0001, kernel=poly ...............................\n",
      "[CV] .. C=1000, gamma=0.0001, kernel=poly, score=0.3125, total=   0.0s\n",
      "[CV] C=1000, gamma=0.0001, kernel=poly ...............................\n",
      "[CV]  C=1000, gamma=0.0001, kernel=poly, score=0.35714285714285715, total=   0.0s\n",
      "[CV] C=1000, gamma=0.0001, kernel=sigmoid ............................\n",
      "[CV]  C=1000, gamma=0.0001, kernel=sigmoid, score=0.3333333333333333, total=   0.0s\n",
      "[CV] C=1000, gamma=0.0001, kernel=sigmoid ............................\n",
      "[CV] . C=1000, gamma=0.0001, kernel=sigmoid, score=0.25, total=   0.0s\n",
      "[CV] C=1000, gamma=0.0001, kernel=sigmoid ............................\n",
      "[CV]  C=1000, gamma=0.0001, kernel=sigmoid, score=0.35714285714285715, total=   0.0s\n"
     ]
    },
    {
     "name": "stderr",
     "output_type": "stream",
     "text": [
      "[Parallel(n_jobs=1)]: Done 225 out of 225 | elapsed:    0.6s finished\n",
      "C:\\Users\\Admin\\Anaconda3\\lib\\site-packages\\sklearn\\model_selection\\_search.py:841: DeprecationWarning: The default of the `iid` parameter will change from True to False in version 0.22 and will be removed in 0.24. This will change numeric results when test-set sizes are unequal.\n",
      "  DeprecationWarning)\n"
     ]
    }
   ],
   "source": [
    "# defining parameter range \n",
    "param_grid = {'C': [0.1, 1, 10, 100, 1000],  \n",
    "              'gamma': [1, 0.1, 0.01, 0.001, 0.0001], \n",
    "              'kernel': ['rbf','poly','sigmoid']}  \n",
    "  \n",
    "grid = GridSearchCV(SVC(), param_grid, refit = True, verbose = 3);\n",
    "  \n",
    "# fitting the model for grid search \n",
    "grid.fit(imvalidp, valid_set);"
   ]
  },
  {
   "cell_type": "code",
   "execution_count": 13,
   "metadata": {},
   "outputs": [
    {
     "name": "stdout",
     "output_type": "stream",
     "text": [
      "{'C': 0.1, 'gamma': 0.01, 'kernel': 'poly'}\n",
      "SVC(C=0.1, cache_size=200, class_weight=None, coef0=0.0,\n",
      "  decision_function_shape='ovr', degree=3, gamma=0.01, kernel='poly',\n",
      "  max_iter=-1, probability=False, random_state=None, shrinking=True,\n",
      "  tol=0.001, verbose=False)\n",
      "0.3333333333333333\n"
     ]
    }
   ],
   "source": [
    "\n",
    "\n",
    "# print best parameter after tuning \n",
    "print(grid.best_params_) \n",
    "  \n",
    "# print how our model looks after hyper-parameter tuning \n",
    "print(grid.best_estimator_) \n",
    "\n",
    "print((grid.best_score_))"
   ]
  },
  {
   "cell_type": "markdown",
   "metadata": {},
   "source": [
    "## Second method for the tuning"
   ]
  },
  {
   "cell_type": "code",
   "execution_count": 14,
   "metadata": {},
   "outputs": [
    {
     "name": "stderr",
     "output_type": "stream",
     "text": [
      "C:\\Users\\Admin\\Anaconda3\\lib\\site-packages\\sklearn\\model_selection\\_split.py:652: Warning: The least populated class in y has only 1 members, which is too few. The minimum number of members in any class cannot be less than n_splits=10.\n",
      "  % (min_groups, self.n_splits)), Warning)\n",
      "C:\\Users\\Admin\\Anaconda3\\lib\\site-packages\\sklearn\\model_selection\\_split.py:652: Warning: The least populated class in y has only 1 members, which is too few. The minimum number of members in any class cannot be less than n_splits=10.\n",
      "  % (min_groups, self.n_splits)), Warning)\n",
      "C:\\Users\\Admin\\Anaconda3\\lib\\site-packages\\sklearn\\model_selection\\_split.py:652: Warning: The least populated class in y has only 1 members, which is too few. The minimum number of members in any class cannot be less than n_splits=10.\n",
      "  % (min_groups, self.n_splits)), Warning)\n"
     ]
    },
    {
     "name": "stdout",
     "output_type": "stream",
     "text": [
      "Best: 0.312500 using {'C': 0.1, 'gamma': 'scale', 'kernel': 'poly'}\n"
     ]
    },
    {
     "name": "stderr",
     "output_type": "stream",
     "text": [
      "C:\\Users\\Admin\\Anaconda3\\lib\\site-packages\\sklearn\\model_selection\\_search.py:841: DeprecationWarning: The default of the `iid` parameter will change from True to False in version 0.22 and will be removed in 0.24. This will change numeric results when test-set sizes are unequal.\n",
      "  DeprecationWarning)\n"
     ]
    }
   ],
   "source": [
    "kernel = ['poly', 'rbf', 'sigmoid']\n",
    "C = [50, 10, 1.0, 0.1, 0.01]\n",
    "gamma = ['scale']\n",
    "# define grid search\n",
    "grid = dict(kernel=kernel,C=C,gamma=gamma)\n",
    "cv = RepeatedStratifiedKFold(n_splits=10, n_repeats=3, random_state=1)\n",
    "grid_search = GridSearchCV(estimator=SVC(), param_grid=grid, n_jobs=-1, cv=cv, scoring='accuracy',error_score=0)\n",
    "grid_result = grid_search.fit(imvalidp, valid_set)\n",
    "# summarize results\n",
    "print(\"Best: %f using %s\" % (grid_result.best_score_, grid_result.best_params_))\n",
    "means = grid_result.cv_results_['mean_test_score']\n",
    "stds = grid_result.cv_results_['std_test_score']\n",
    "params = grid_result.cv_results_['params']"
   ]
  },
  {
   "cell_type": "markdown",
   "metadata": {},
   "source": [
    "## Precision vs Recall "
   ]
  },
  {
   "cell_type": "code",
   "execution_count": 15,
   "metadata": {},
   "outputs": [
    {
     "name": "stderr",
     "output_type": "stream",
     "text": [
      "C:\\Users\\Admin\\Anaconda3\\lib\\site-packages\\sklearn\\metrics\\classification.py:1143: UndefinedMetricWarning: Precision and F-score are ill-defined and being set to 0.0 in labels with no predicted samples.\n",
      "  'precision', 'predicted', average, warn_for)\n"
     ]
    },
    {
     "name": "stdout",
     "output_type": "stream",
     "text": [
      "[[4 0 1 1 3 0 0]\n",
      " [2 1 2 2 0 0 0]\n",
      " [9 0 2 0 3 0 0]\n",
      " [1 2 0 2 1 0 0]\n",
      " [3 2 3 3 4 0 0]\n",
      " [1 0 1 0 2 2 0]\n",
      " [1 0 1 1 0 0 0]]\n",
      "              precision    recall  f1-score   support\n",
      "\n",
      "           0       0.19      0.44      0.27         9\n",
      "           1       0.20      0.14      0.17         7\n",
      "           2       0.20      0.14      0.17        14\n",
      "           3       0.22      0.33      0.27         6\n",
      "           4       0.31      0.27      0.29        15\n",
      "           5       1.00      0.33      0.50         6\n",
      "           6       0.00      0.00      0.00         3\n",
      "\n",
      "   micro avg       0.25      0.25      0.25        60\n",
      "   macro avg       0.30      0.24      0.24        60\n",
      "weighted avg       0.30      0.25      0.25        60\n",
      "\n"
     ]
    }
   ],
   "source": [
    "print(confusion_matrix(test_set,y_pred))\n",
    "print(classification_report(test_set,y_pred))"
   ]
  },
  {
   "cell_type": "markdown",
   "metadata": {},
   "source": [
    "## ROC Curve\n"
   ]
  },
  {
   "cell_type": "code",
   "execution_count": 17,
   "metadata": {},
   "outputs": [
    {
     "name": "stderr",
     "output_type": "stream",
     "text": [
      "C:\\Users\\Admin\\Anaconda3\\lib\\site-packages\\sklearn\\svm\\base.py:922: ConvergenceWarning: Liblinear failed to converge, increase the number of iterations.\n",
      "  \"the number of iterations.\", ConvergenceWarning)\n",
      "C:\\Users\\Admin\\Anaconda3\\lib\\site-packages\\sklearn\\svm\\base.py:922: ConvergenceWarning: Liblinear failed to converge, increase the number of iterations.\n",
      "  \"the number of iterations.\", ConvergenceWarning)\n",
      "C:\\Users\\Admin\\Anaconda3\\lib\\site-packages\\sklearn\\svm\\base.py:922: ConvergenceWarning: Liblinear failed to converge, increase the number of iterations.\n",
      "  \"the number of iterations.\", ConvergenceWarning)\n",
      "C:\\Users\\Admin\\Anaconda3\\lib\\site-packages\\sklearn\\svm\\base.py:922: ConvergenceWarning: Liblinear failed to converge, increase the number of iterations.\n",
      "  \"the number of iterations.\", ConvergenceWarning)\n",
      "C:\\Users\\Admin\\Anaconda3\\lib\\site-packages\\sklearn\\multiclass.py:76: UserWarning: Label not 7 is present in all training examples.\n",
      "  str(classes[c]))\n"
     ]
    },
    {
     "data": {
      "image/png": "[encoded data removed]",
      "text/plain": [
       "<Figure size 432x288 with 1 Axes>"
      ]
     },
     "metadata": {
      "needs_background": "light"
     },
     "output_type": "display_data"
    },
    {
     "data": {
      "image/png": "[encoded data removed]",
      "text/plain": [
       "<Figure size 432x288 with 1 Axes>"
      ]
     },
     "metadata": {
      "needs_background": "light"
     },
     "output_type": "display_data"
    },
    {
     "data": {
      "image/png": "[encoded data removed]",
      "text/plain": [
       "<Figure size 432x288 with 1 Axes>"
      ]
     },
     "metadata": {
      "needs_background": "light"
     },
     "output_type": "display_data"
    },
    {
     "data": {
      "image/png": "[encoded data removed]",
      "text/plain": [
       "<Figure size 432x288 with 1 Axes>"
      ]
     },
     "metadata": {
      "needs_background": "light"
     },
     "output_type": "display_data"
    },
    {
     "data": {
      "image/png": "[encoded data removed]",
      "text/plain": [
       "<Figure size 432x288 with 1 Axes>"
      ]
     },
     "metadata": {
      "needs_background": "light"
     },
     "output_type": "display_data"
    },
    {
     "data": {
      "image/png": "[encoded data removed]",
      "text/plain": [
       "<Figure size 432x288 with 1 Axes>"
      ]
     },
     "metadata": {
      "needs_background": "light"
     },
     "output_type": "display_data"
    },
    {
     "data": {
      "image/png": "[encoded data removed]",
      "text/plain": [
       "<Figure size 432x288 with 1 Axes>"
      ]
     },
     "metadata": {
      "needs_background": "light"
     },
     "output_type": "display_data"
    }
   ],
   "source": [
    "from sklearn.metrics import roc_curve, auc\n",
    "from sklearn import datasets\n",
    "from sklearn.multiclass import OneVsRestClassifier\n",
    "from sklearn.svm import LinearSVC\n",
    "from sklearn.preprocessing import label_binarize\n",
    "\n",
    "import matplotlib.pyplot as plt\n",
    "\n",
    "\n",
    "X=imtrainp\n",
    "y=train_set\n",
    "\n",
    "y = label_binarize(y, classes=[0,1,2,3,4,5,6,7])\n",
    "n_classes = 7\n",
    "\n",
    "# shuffle and split training and test sets\n",
    "X_train, X_test, y_train, y_test =\\\n",
    "    train_test_split(X, y, test_size=0.33, random_state=0)\n",
    "\n",
    "# classifier\n",
    "clf = OneVsRestClassifier(LinearSVC(random_state=0))\n",
    "y_score = clf.fit(X_train, y_train).decision_function(X_test)\n",
    "\n",
    "# Compute ROC curve and ROC area for each class\n",
    "fpr = dict()\n",
    "tpr = dict()\n",
    "roc_auc = dict()\n",
    "for i in range(n_classes):\n",
    "    fpr[i], tpr[i], _ = roc_curve(y_test[:, i], y_score[:, i])\n",
    "    roc_auc[i] = auc(fpr[i], tpr[i])\n",
    "\n",
    "# Plot of a ROC curve for a specific class\n",
    "for i in range(n_classes):\n",
    "    plt.figure()\n",
    "    plt.plot(fpr[i], tpr[i], label='ROC curve (area = %0.2f)' % roc_auc[i])\n",
    "    plt.plot([0, 1], [0, 1], 'k--')\n",
    "    plt.xlim([0.0, 1.0])\n",
    "    plt.ylim([0.0, 1.05])\n",
    "    plt.xlabel('False Positive Rate')\n",
    "    plt.ylabel('True Positive Rate')"
   ]
  },
  {
   "cell_type": "code",
   "execution_count": null,
   "metadata": {},
   "outputs": [],
   "source": []
  },
  {
   "cell_type": "code",
   "execution_count": 18,
   "metadata": {},
   "outputs": [
    {
     "data": {
      "image/png": "[encoded data removed]",
      "text/plain": [
       "<Figure size 432x288 with 1 Axes>"
      ]
     },
     "metadata": {
      "needs_background": "light"
     },
     "output_type": "display_data"
    }
   ],
   "source": [
    "from sklearn.metrics import precision_recall_curve, roc_curve\n",
    "# precision recall curve\n",
    "precision = dict()\n",
    "recall = dict()\n",
    "for i in range(n_classes):\n",
    "    precision[i], recall[i], _ = precision_recall_curve(y_test[:, i],\n",
    "                                                        y_score[:, i])\n",
    "    plt.plot(recall[i], precision[i], lw=2, label='class {}'.format(i))\n",
    "    \n",
    "plt.xlabel(\"recall\")\n",
    "plt.ylabel(\"precision\")\n",
    "plt.legend(loc=\"best\")\n",
    "plt.title(\"precision vs. recall curve\")\n",
    "plt.show()"
   ]
  },
  {
   "cell_type": "code",
   "execution_count": 19,
   "metadata": {},
   "outputs": [
    {
     "data": {
      "image/png": "[encoded data removed]",
      "text/plain": [
       "<Figure size 432x288 with 1 Axes>"
      ]
     },
     "metadata": {
      "needs_background": "light"
     },
     "output_type": "display_data"
    }
   ],
   "source": [
    "# roc curve\n",
    "fpr = dict()\n",
    "tpr = dict()\n",
    "\n",
    "for i in range(n_classes):\n",
    "    fpr[i], tpr[i], _ = roc_curve(y_test[:, i],\n",
    "                                  y_score[:, i])\n",
    "    plt.plot(fpr[i], tpr[i], lw=2, label='class {}'.format(i))\n",
    "\n",
    "plt.xlabel(\"false positive rate\")\n",
    "plt.ylabel(\"true positive rate\")\n",
    "plt.legend(loc=\"best\")\n",
    "plt.title(\"ROC curve\")\n",
    "plt.show()"
   ]
  },
  {
   "cell_type": "markdown",
   "metadata": {},
   "source": [
    "## Final score"
   ]
  },
  {
   "cell_type": "code",
   "execution_count": 32,
   "metadata": {},
   "outputs": [
    {
     "name": "stdout",
     "output_type": "stream",
     "text": [
      "The final score is : 0.24642857142857144\n",
      "Accuracy: 0.25\n",
      "Precision: 0.29771672771672775\n",
      "Recall: 0.25\n"
     ]
    }
   ],
   "source": [
    "from sklearn.metrics import f1_score\n",
    "print('The final score is :',f1_score(test_set, y_pred, average='weighted'))\n",
    "\n",
    "# Model Accuracy: how often is the classifier correct?\n",
    "print(\"Accuracy:\",metrics.accuracy_score(test_set, y_pred))\n",
    "\n",
    "\n",
    "# Model Precision: what percentage of positive tuples are labeled as such?\n",
    "print(\"Precision:\",metrics.precision_score(test_set, y_pred,average='weighted'))\n",
    "\n",
    "# Model Recall: what percentage of positive tuples are labelled as such?\n",
    "print(\"Recall:\",metrics.recall_score(test_set, y_pred,average='weighted'))"
   ]
  }
 ],
 "metadata": {
  "kernelspec": {
   "display_name": "Python 3",
   "language": "python",
   "name": "python3"
  },
  "language_info": {
   "codemirror_mode": {
    "name": "ipython",
    "version": 3
   },
   "file_extension": ".py",
   "mimetype": "text/x-python",
   "name": "python",
   "nbconvert_exporter": "python",
   "pygments_lexer": "ipython3",
   "version": "3.7.1"
  }
 },
 "nbformat": 4,
 "nbformat_minor": 2
}
